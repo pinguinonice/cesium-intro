{
  "nbformat": 4,
  "nbformat_minor": 0,
  "metadata": {
    "colab": {
      "name": "txt2kml.ipynb",
      "provenance": [],
      "collapsed_sections": [],
      "authorship_tag": "ABX9TyOKX7/74e7xgFelqtRz7KB/",
      "include_colab_link": true
    },
    "kernelspec": {
      "name": "python3",
      "display_name": "Python 3"
    },
    "language_info": {
      "name": "python"
    }
  },
  "cells": [
    {
      "cell_type": "markdown",
      "metadata": {
        "id": "view-in-github",
        "colab_type": "text"
      },
      "source": [
        "<a href=\"https://colab.research.google.com/github/pinguinonice/cesium-intro/blob/main/txt2kml.ipynb\" target=\"_parent\"><img src=\"https://colab.research.google.com/assets/colab-badge.svg\" alt=\"Open In Colab\"/></a>"
      ]
    },
    {
      "cell_type": "markdown",
      "metadata": {
        "id": "ZDizR0HdEm-J"
      },
      "source": [
        "Clone the cesium-intro repository from github ab"
      ]
    },
    {
      "cell_type": "code",
      "metadata": {
        "colab": {
          "base_uri": "https://localhost:8080/"
        },
        "id": "Pt1ExFHaDW6G",
        "outputId": "43fa50b4-4902-4491-d462-ec45148db4d1"
      },
      "source": [
        "!git clone https://github.com/pinguinonice/cesium-intro.git\n",
        "% cd cesium-intro/examples/5-txt2kml/\n",
        "!pip install pyproj\n"
      ],
      "execution_count": 8,
      "outputs": [
        {
          "output_type": "stream",
          "text": [
            "Cloning into 'cesium-intro'...\n",
            "remote: Enumerating objects: 132, done.\u001b[K\n",
            "remote: Counting objects: 100% (132/132), done.\u001b[K\n",
            "remote: Compressing objects: 100% (106/106), done.\u001b[K\n",
            "remote: Total 132 (delta 65), reused 55 (delta 18), pack-reused 0\u001b[K\n",
            "Receiving objects: 100% (132/132), 13.89 MiB | 5.93 MiB/s, done.\n",
            "Resolving deltas: 100% (65/65), done.\n",
            "/content/cesium-intro/examples/5-txt2kml/cesium-intro/examples/5-txt2kml\n",
            "Requirement already satisfied: pyproj in /usr/local/lib/python3.7/dist-packages (3.0.1)\n",
            "Requirement already satisfied: certifi in /usr/local/lib/python3.7/dist-packages (from pyproj) (2020.12.5)\n"
          ],
          "name": "stdout"
        }
      ]
    },
    {
      "cell_type": "markdown",
      "metadata": {
        "id": "QmCkKmpjE7zu"
      },
      "source": [
        "Run the txt2kml file. \n",
        "\n",
        "Important: please modefy the file to process your own trajectory!"
      ]
    },
    {
      "cell_type": "code",
      "metadata": {
        "colab": {
          "base_uri": "https://localhost:8080/"
        },
        "id": "tT0mgdnOEMZO",
        "outputId": "f8ffc3ce-acb8-4820-9042-738ec6e003d1"
      },
      "source": [
        "!python3 txt2kml.py"
      ],
      "execution_count": 9,
      "outputs": [
        {
          "output_type": "stream",
          "text": [
            "S : txt2kml\n",
            "S : txt2kml > Import Trj\n",
            "I : txt2kml > Import Trj > angle difference is -153.052 [deg]\n",
            "E : txt2kml > Import Trj\n",
            "S : txt2kml > Applying rotation\n",
            "txt2kml.py:54: DeprecationWarning: This function is deprecated. See: https://pyproj4.github.io/pyproj/stable/gotchas.html#upgrading-to-pyproj-2-from-pyproj-1\n",
            "  target_x, target_y = pyproj.transform( crs_source, crs_target, xyz_oriented[:,0].tolist(), xyz_oriented[:,1].tolist() )\n",
            "E : txt2kml > Applying rotation\n",
            "S : txt2kml > Writing kml file\n",
            "E : txt2kml > Writing kml file\n",
            "I : txt2kml Excecuted in 0 hour(s) 0 min(s) 0.43 secs\n",
            "E : txt2kml\n"
          ],
          "name": "stdout"
        }
      ]
    },
    {
      "cell_type": "markdown",
      "metadata": {
        "id": "3yYhW5kyFQ1o"
      },
      "source": [
        "You find the resulting kml in `cesium-intro/examples/5-txt2kml/KML/test.kml`\n"
      ]
    },
    {
      "cell_type": "markdown",
      "metadata": {
        "id": "Zw-vwwIEEfLy"
      },
      "source": [
        ""
      ]
    },
    {
      "cell_type": "markdown",
      "metadata": {
        "id": "egUeRnuUEdOH"
      },
      "source": [
        ""
      ]
    }
  ]
}